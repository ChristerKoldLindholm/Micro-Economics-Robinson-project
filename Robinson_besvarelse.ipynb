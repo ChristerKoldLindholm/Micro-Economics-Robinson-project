{
 "cells": [
  {
   "attachments": {},
   "cell_type": "markdown",
   "metadata": {},
   "source": [
    "# Produktionsøkonomi og brug af widgets"
   ]
  },
  {
   "cell_type": "code",
   "execution_count": 1,
   "metadata": {},
   "outputs": [],
   "source": [
    "%matplotlib inline\n",
    "\n",
    "import numpy as np\n",
    "import matplotlib.pyplot as plt\n",
    "import ipywidgets as wg"
   ]
  },
  {
   "cell_type": "code",
   "execution_count": 2,
   "metadata": {},
   "outputs": [],
   "source": [
    "Lmax = 12\n",
    "Cmax = 10"
   ]
  },
  {
   "cell_type": "code",
   "execution_count": 3,
   "metadata": {},
   "outputs": [],
   "source": [
    "# I kan bruge nedenstående kode til at få samme layout som vist i forelæsningerne (ikke påkrævet)\n",
    "def myPlot(ax):\n",
    "    ax.set_ylabel('C',y=1,va='top',ha='right',labelpad=15,rotation='horizontal',fontsize='xx-large')\n",
    "    ax.set_xlabel('L',x=1,ha='right',labelpad=10,fontsize='xx-large')\n",
    "    ax.tick_params(axis='both', which='both', bottom=False, labelbottom=False, left=False,labelleft=False)\n",
    "    ax.spines['top'].set_visible(False)\n",
    "    ax.spines['right'].set_visible(False)\n",
    "    ax.set_xlim([0,Lmax+2])\n",
    "    ax.set_ylim([0,Cmax])\n",
    "    ax.text(Lmax,-0.11, '$\\overline{L}$', ha='center',va='top', fontsize='xx-large', color='k')\n",
    "    ax.vlines(Lmax, 0, Cmax-0.05, linestyle=\"dashed\", color='k')\n",
    "\n",
    "def plotLines(ax,x,y,xtext,ytext,c='k'):\n",
    "    ax.vlines(x, 0, y, linestyle=\"dashed\", linewidth=1, color=c)\n",
    "    ax.text(x,-0.1, xtext, ha='center',va='top', fontsize='xx-large', color=c)\n",
    "    ax.hlines(y, 0, x, linestyle=\"dashed\", linewidth=1, color=c)\n",
    "    ax.text(-0.1,y, ytext, ha='right',va='center', fontsize='xx-large', color=c)"
   ]
  },
  {
   "cell_type": "code",
   "execution_count": 4,
   "metadata": {},
   "outputs": [
    {
     "data": {
      "application/vnd.jupyter.widget-view+json": {
       "model_id": "9285775945e340c6a2d903547f257cca",
       "version_major": 2,
       "version_minor": 0
      },
      "text/plain": [
       "interactive(children=(FloatSlider(value=1.6, description='w', max=2.0, min=0.29, step=0.01), Output()), _dom_c…"
      ]
     },
     "metadata": {},
     "output_type": "display_data"
    }
   ],
   "source": [
    "# Løsning til opgave (2.d), (2.e).\n",
    "# Sæt prisen på forbrugsgodet til 1\n",
    "p1 = 1\n",
    "\n",
    "# Produktionsfunktionen y = sqrt(4L)\n",
    "def production(L):\n",
    "    return np.sqrt(4*L)\n",
    "\n",
    "def budget(w, L):\n",
    "    f = 12 - L \n",
    "    return w*L+1/w\n",
    "\n",
    "def utility(w, f, L):\n",
    "    f = 12 - L \n",
    "    u_bar = (4*w+1/3*w)**(1/3)*(8+2/(3*w**2))**(2/3)\n",
    "    return (u_bar**3)/(f**2)\n",
    "\n",
    "def plot_function(w):\n",
    "    L = np.linspace(0.1, 11, 1000)\n",
    "\n",
    "    fig, ax = plt.subplots(figsize=(8,6))\n",
    "\n",
    "    ax.plot(L, production(L), label='Produktion')\n",
    "    ax.plot(L, budget(w, L), label='Budgetlinje')\n",
    "    ax.plot(L, utility(w, L, L), label='Nyttemax')\n",
    "    # Plot point (L*(w), y*(w))\n",
    "    ax.plot((1/(w**2)), (2/w), 'ro', label='(L*, y*)')\n",
    "    # Plot point (C*(w), f*(w))\n",
    "    ax.plot((4*w+(1/(3*w))), (8+(2/(3*w**2))), 'ks', label='(C*, f*)')\n",
    "\n",
    "    ax.set_xlabel('L')\n",
    "    ax.set_ylabel('C')\n",
    "    ax.set_xlim([0, 12])\n",
    "    ax.set_ylim([0, 10]) \n",
    "    ax.legend()\n",
    "    plt.show()\n",
    "\n",
    "# plot_function()\n",
    "\n",
    "# Lav en sliderwidget for w \n",
    "w_slider = wg.FloatSlider(min=0.29, max=2, step=0.01, value=1.6, description='w')\n",
    "\n",
    "# Create an interactive plot with the slider widget\n",
    "wg.interact(plot_function, w=w_slider);\n",
    "\n"
   ]
  }
 ],
 "metadata": {
  "kernelspec": {
   "display_name": "Python 3",
   "language": "python",
   "name": "python3"
  },
  "language_info": {
   "codemirror_mode": {
    "name": "ipython",
    "version": 3
   },
   "file_extension": ".py",
   "mimetype": "text/x-python",
   "name": "python",
   "nbconvert_exporter": "python",
   "pygments_lexer": "ipython3",
   "version": "3.11.1"
  },
  "toc": {
   "base_numbering": 1,
   "nav_menu": {},
   "number_sections": true,
   "sideBar": true,
   "skip_h1_title": true,
   "title_cell": "Table of Contents",
   "title_sidebar": "Contents",
   "toc_cell": false,
   "toc_position": {},
   "toc_section_display": true,
   "toc_window_display": true
  }
 },
 "nbformat": 4,
 "nbformat_minor": 4
}
